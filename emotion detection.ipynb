{
 "cells": [
  {
   "cell_type": "code",
   "execution_count": 1,
   "id": "d749cdbd-66cd-4f43-b1d1-9d6d9bcf3f55",
   "metadata": {},
   "outputs": [
    {
     "name": "stdout",
     "output_type": "stream",
     "text": [
      "     tweet_id   sentiment                                            content\n",
      "0  1956967341       empty  @tiffanylue i know  i was listenin to bad habi...\n",
      "1  1956967666     sadness  Layin n bed with a headache  ughhhh...waitin o...\n",
      "2  1956967696     sadness                Funeral ceremony...gloomy friday...\n",
      "3  1956967789  enthusiasm               wants to hang out with friends SOON!\n",
      "4  1956968416     neutral  @dannycastillo We want to trade with someone w...\n",
      "tweet_id     0\n",
      "sentiment    0\n",
      "content      0\n",
      "dtype: int64\n",
      "0\n",
      "sentiment\n",
      "neutral       8638\n",
      "worry         8459\n",
      "happiness     5209\n",
      "sadness       5165\n",
      "love          3842\n",
      "surprise      2187\n",
      "fun           1776\n",
      "relief        1526\n",
      "hate          1323\n",
      "empty          827\n",
      "enthusiasm     759\n",
      "boredom        179\n",
      "anger          110\n",
      "Name: count, dtype: int64\n"
     ]
    },
    {
     "data": {
      "image/png": "[encoded data removed]",
      "text/plain": [
       "<Figure size 640x480 with 1 Axes>"
      ]
     },
     "metadata": {},
     "output_type": "display_data"
    },
    {
     "name": "stdout",
     "output_type": "stream",
     "text": [
      "              precision    recall  f1-score   support\n",
      "\n",
      "           0       0.00      0.00      0.00        19\n",
      "           1       0.03      0.03      0.03        31\n",
      "           2       0.03      0.15      0.06       162\n",
      "           3       0.03      0.06      0.04       163\n",
      "           4       0.09      0.11      0.10       338\n",
      "           5       0.29      0.24      0.26      1028\n",
      "           6       0.20      0.31      0.24       268\n",
      "           7       0.39      0.41      0.40       762\n",
      "           8       0.36      0.26      0.30      1740\n",
      "           9       0.10      0.12      0.11       352\n",
      "          10       0.28      0.25      0.26      1046\n",
      "          11       0.09      0.10      0.10       425\n",
      "          12       0.35      0.28      0.31      1666\n",
      "\n",
      "    accuracy                           0.25      8000\n",
      "   macro avg       0.17      0.18      0.17      8000\n",
      "weighted avg       0.28      0.25      0.26      8000\n",
      "\n",
      " Model, Vectorizer, and Label Encoder Loaded Successfully!\n"
     ]
    },
    {
     "name": "stdin",
     "output_type": "stream",
     "text": [
      "\n",
      "Enter a sentence to analyze emotion (or type 'exit' to stop):  wow!\n"
     ]
    },
    {
     "name": "stdout",
     "output_type": "stream",
     "text": [
      " Predicted Emotion: enthusiasm\n",
      "\n"
     ]
    },
    {
     "name": "stdin",
     "output_type": "stream",
     "text": [
      "\n",
      "Enter a sentence to analyze emotion (or type 'exit' to stop):  she is beautiful, look at her eyes\n"
     ]
    },
    {
     "name": "stdout",
     "output_type": "stream",
     "text": [
      " Predicted Emotion: fun\n",
      "\n"
     ]
    },
    {
     "name": "stdin",
     "output_type": "stream",
     "text": [
      "\n",
      "Enter a sentence to analyze emotion (or type 'exit' to stop):  I want to kick him\n"
     ]
    },
    {
     "name": "stdout",
     "output_type": "stream",
     "text": [
      " Predicted Emotion: neutral\n",
      "\n"
     ]
    },
    {
     "name": "stdin",
     "output_type": "stream",
     "text": [
      "\n",
      "Enter a sentence to analyze emotion (or type 'exit' to stop):  lets think before doing it\n"
     ]
    },
    {
     "name": "stdout",
     "output_type": "stream",
     "text": [
      " Predicted Emotion: neutral\n",
      "\n"
     ]
    },
    {
     "name": "stdin",
     "output_type": "stream",
     "text": [
      "\n",
      "Enter a sentence to analyze emotion (or type 'exit' to stop):  Yesterday was little hard \n"
     ]
    },
    {
     "name": "stdout",
     "output_type": "stream",
     "text": [
      " Predicted Emotion: worry\n",
      "\n"
     ]
    },
    {
     "name": "stdin",
     "output_type": "stream",
     "text": [
      "\n",
      "Enter a sentence to analyze emotion (or type 'exit' to stop):  we will sing together \n"
     ]
    },
    {
     "name": "stdout",
     "output_type": "stream",
     "text": [
      " Predicted Emotion: neutral\n",
      "\n"
     ]
    },
    {
     "name": "stdin",
     "output_type": "stream",
     "text": [
      "\n",
      "Enter a sentence to analyze emotion (or type 'exit' to stop):  Hello! gauri here\n"
     ]
    },
    {
     "name": "stdout",
     "output_type": "stream",
     "text": [
      " Predicted Emotion: enthusiasm\n",
      "\n"
     ]
    },
    {
     "name": "stdin",
     "output_type": "stream",
     "text": [
      "\n",
      "Enter a sentence to analyze emotion (or type 'exit' to stop):  I saw Priya crying and sitting alone in the ground \n"
     ]
    },
    {
     "name": "stdout",
     "output_type": "stream",
     "text": [
      " Predicted Emotion: relief\n",
      "\n"
     ]
    },
    {
     "name": "stdin",
     "output_type": "stream",
     "text": [
      "\n",
      "Enter a sentence to analyze emotion (or type 'exit' to stop):  reena was crying \n"
     ]
    },
    {
     "name": "stdout",
     "output_type": "stream",
     "text": [
      " Predicted Emotion: neutral\n",
      "\n"
     ]
    },
    {
     "name": "stdin",
     "output_type": "stream",
     "text": [
      "\n",
      "Enter a sentence to analyze emotion (or type 'exit' to stop):  exit\n"
     ]
    }
   ],
   "source": [
    "import numpy as np\n",
    "import pandas as pd\n",
    "import seaborn as sns\n",
    "import neattext.functions as nfx\n",
    "import joblib\n",
    "import re\n",
    "\n",
    "from sklearn.feature_extraction.text import TfidfVectorizer\n",
    "from sklearn.model_selection import train_test_split\n",
    "from sklearn.preprocessing import LabelEncoder\n",
    "from imblearn.over_sampling import SMOTE\n",
    "from sklearn.ensemble import RandomForestClassifier\n",
    "from sklearn.metrics import accuracy_score, classification_report\n",
    "import matplotlib.pyplot as plt\n",
    "\n",
    "# Load dataset\n",
    "df = pd.read_csv(\"C:/Users/LENOVO/OneDrive/Desktop/tweet_emotions.csv\")\n",
    "\n",
    "# Show dataset info\n",
    "print(df.head())\n",
    "print(df.isnull().sum())\n",
    "print(df.duplicated().sum())\n",
    "print(df['sentiment'].value_counts())\n",
    "\n",
    "# Plot emotion distribution\n",
    "sns.countplot(x=df['sentiment'])\n",
    "plt.title(\"Emotion Distribution\")\n",
    "plt.show()\n",
    "\n",
    "# Function to clean text\n",
    "def clean_text(text):\n",
    "    text = text.lower()  # Convert to lowercase\n",
    "    text = nfx.remove_urls(text)  # Remove URLs\n",
    "    text = nfx.remove_puncts(text)  # Remove punctuations\n",
    "    text = nfx.remove_stopwords(text)  # Remove stopwords\n",
    "    text = re.sub(r'\\d+', '', text)  # Remove numbers\n",
    "    text = re.sub(r'\\s+', ' ', text).strip()  # Remove extra spaces\n",
    "    return text\n",
    "\n",
    "df['cleaned_text'] = df['content'].apply(clean_text)\n",
    "\n",
    "# Encode sentiment labels\n",
    "encoder = LabelEncoder()\n",
    "df['emotion_label'] = encoder.fit_transform(df['sentiment'])\n",
    "\n",
    "# Save label encoder\n",
    "joblib.dump(encoder.classes_, \"label_encoder.pkl\")\n",
    "\n",
    "# Prepare data\n",
    "X = df['cleaned_text']\n",
    "y = df['emotion_label']\n",
    "\n",
    "# Split dataset\n",
    "X_train, X_test, y_train, y_test = train_test_split(X, y, test_size=0.2, random_state=42)\n",
    "\n",
    "# TF-IDF Vectorization (reduced max features)\n",
    "vectorizer = TfidfVectorizer(max_features=7000, ngram_range=(1,1))  # Unigrams only\n",
    "X_train_tfidf = vectorizer.fit_transform(X_train)\n",
    "X_test_tfidf = vectorizer.transform(X_test)\n",
    "\n",
    "# Save vectorizer\n",
    "joblib.dump(vectorizer, \"tfidf_vectorizer.pkl\")\n",
    "\n",
    "# Apply SMOTE to balance dataset\n",
    "smote = SMOTE(random_state=42)\n",
    "X_train_resampled, y_train_resampled = smote.fit_resample(X_train_tfidf, y_train)\n",
    "\n",
    "# Train Random Forest Model with reduced complexity\n",
    "rf_model = RandomForestClassifier(n_estimators=150, random_state=42, n_jobs=-1)\n",
    "rf_model.fit(X_train_resampled, y_train_resampled)\n",
    "\n",
    "# Save trained model\n",
    "joblib.dump(rf_model, \"emotion_classifier.pkl\")\n",
    "\n",
    "# Make predictions\n",
    "y_pred = rf_model.predict(X_test_tfidf)\n",
    "\n",
    "# Evaluate model\n",
    "accuracy = accuracy_score(y_test, y_pred)\n",
    "print(classification_report(y_test, y_pred))\n",
    "\n",
    "# Load Model for Testing\n",
    "loaded_model = joblib.load(\"emotion_classifier.pkl\")\n",
    "loaded_vectorizer = joblib.load(\"tfidf_vectorizer.pkl\")\n",
    "encoder = LabelEncoder()\n",
    "encoder.classes_ = joblib.load(\"label_encoder.pkl\")\n",
    "\n",
    "print(\" Model, Vectorizer, and Label Encoder Loaded Successfully!\")\n",
    "\n",
    "# Real-time Emotion Detection\n",
    "while True:\n",
    "    user_text = input(\"\\nEnter a sentence to analyze emotion (or type 'exit' to stop): \")\n",
    "    if user_text.lower() == \"exit\":\n",
    "        break\n",
    "\n",
    "    user_features = loaded_vectorizer.transform([user_text])\n",
    "    predicted_emotion = loaded_model.predict(user_features)\n",
    "    predicted_label = encoder.inverse_transform(predicted_emotion)\n",
    "    print(f\" Predicted Emotion: {predicted_label[0]}\\n\")"
   ]
  },
  {
   "cell_type": "code",
   "execution_count": null,
   "id": "9e867ccd-f5f8-4d2b-9a08-84ba5e1efa61",
   "metadata": {},
   "outputs": [],
   "source": []
  }
 ],
 "metadata": {
  "kernelspec": {
   "display_name": "Python 3 (ipykernel)",
   "language": "python",
   "name": "python3"
  },
  "language_info": {
   "codemirror_mode": {
    "name": "ipython",
    "version": 3
   },
   "file_extension": ".py",
   "mimetype": "text/x-python",
   "name": "python",
   "nbconvert_exporter": "python",
   "pygments_lexer": "ipython3",
   "version": "3.9.18"
  }
 },
 "nbformat": 4,
 "nbformat_minor": 5
}
